{
 "cells": [
  {
   "cell_type": "code",
   "execution_count": 187,
   "id": "cb597310",
   "metadata": {},
   "outputs": [
    {
     "name": "stdout",
     "output_type": "stream",
     "text": [
      "Defaulting to user installation because normal site-packages is not writeable\n",
      "Requirement already satisfied: lightgbm in c:\\users\\kumara\\appdata\\roaming\\python\\python312\\site-packages (4.6.0)\n",
      "Requirement already satisfied: numpy>=1.17.0 in c:\\users\\kumara\\appdata\\roaming\\python\\python312\\site-packages (from lightgbm) (2.3.0)\n",
      "Requirement already satisfied: scipy in c:\\users\\kumara\\appdata\\roaming\\python\\python312\\site-packages (from lightgbm) (1.15.3)\n",
      "Note: you may need to restart the kernel to use updated packages.\n"
     ]
    },
    {
     "name": "stderr",
     "output_type": "stream",
     "text": [
      "\n",
      "[notice] A new release of pip is available: 25.0.1 -> 25.1.1\n",
      "[notice] To update, run: python.exe -m pip install --upgrade pip\n"
     ]
    }
   ],
   "source": [
    "%pip install lightgbm\n",
    "import pandas as pd\n",
    "import numpy as np\n",
    "import matplotlib.pyplot as plt\n",
    "import seaborn as sns\n",
    "from sklearn.model_selection import train_test_split, KFold, cross_val_score, GridSearchCV, RandomizedSearchCV\n",
    "from sklearn.preprocessing import StandardScaler, OneHotEncoder\n",
    "from sklearn.compose import ColumnTransformer\n",
    "from sklearn.pipeline import Pipeline\n",
    "from sklearn.impute import SimpleImputer\n",
    "from sklearn.linear_model import LinearRegression, Ridge, Lasso\n",
    "from sklearn.ensemble import RandomForestRegressor, GradientBoostingRegressor\n",
    "from sklearn.svm import SVR\n",
    "from sklearn.metrics import mean_squared_error, r2_score, mean_absolute_error, make_scorer\n",
    "import xgboost as xgb\n",
    "import lightgbm as lgb\n",
    "import sklearn # For version check\n"
   ]
  },
  {
   "cell_type": "code",
   "execution_count": 188,
   "id": "527e20ff",
   "metadata": {},
   "outputs": [
    {
     "data": {
      "text/html": [
       "<div>\n",
       "<style scoped>\n",
       "    .dataframe tbody tr th:only-of-type {\n",
       "        vertical-align: middle;\n",
       "    }\n",
       "\n",
       "    .dataframe tbody tr th {\n",
       "        vertical-align: top;\n",
       "    }\n",
       "\n",
       "    .dataframe thead th {\n",
       "        text-align: right;\n",
       "    }\n",
       "</style>\n",
       "<table border=\"1\" class=\"dataframe\">\n",
       "  <thead>\n",
       "    <tr style=\"text-align: right;\">\n",
       "      <th></th>\n",
       "      <th>id</th>\n",
       "      <th>temperature</th>\n",
       "      <th>irradiance</th>\n",
       "      <th>humidity</th>\n",
       "      <th>panel_age</th>\n",
       "      <th>maintenance_count</th>\n",
       "      <th>soiling_ratio</th>\n",
       "      <th>voltage</th>\n",
       "      <th>current</th>\n",
       "      <th>module_temperature</th>\n",
       "      <th>cloud_coverage</th>\n",
       "      <th>wind_speed</th>\n",
       "      <th>pressure</th>\n",
       "      <th>string_id</th>\n",
       "      <th>error_code</th>\n",
       "      <th>installation_type</th>\n",
       "      <th>efficiency</th>\n",
       "    </tr>\n",
       "  </thead>\n",
       "  <tbody>\n",
       "    <tr>\n",
       "      <th>0</th>\n",
       "      <td>0</td>\n",
       "      <td>7.817315</td>\n",
       "      <td>576.179270</td>\n",
       "      <td>41.24308670850264</td>\n",
       "      <td>32.135501</td>\n",
       "      <td>4.0</td>\n",
       "      <td>0.803199</td>\n",
       "      <td>37.403527</td>\n",
       "      <td>1.963787</td>\n",
       "      <td>13.691147</td>\n",
       "      <td>62.494044</td>\n",
       "      <td>12.82491203459621</td>\n",
       "      <td>1018.8665053152533</td>\n",
       "      <td>A1</td>\n",
       "      <td>NaN</td>\n",
       "      <td>NaN</td>\n",
       "      <td>0.562096</td>\n",
       "    </tr>\n",
       "    <tr>\n",
       "      <th>1</th>\n",
       "      <td>1</td>\n",
       "      <td>24.785727</td>\n",
       "      <td>240.003973</td>\n",
       "      <td>1.3596482765960705</td>\n",
       "      <td>19.977460</td>\n",
       "      <td>8.0</td>\n",
       "      <td>0.479456</td>\n",
       "      <td>21.843315</td>\n",
       "      <td>0.241473</td>\n",
       "      <td>27.545096</td>\n",
       "      <td>43.851238</td>\n",
       "      <td>12.012043660984917</td>\n",
       "      <td>1025.6238537572883</td>\n",
       "      <td>D4</td>\n",
       "      <td>E00</td>\n",
       "      <td>dual-axis</td>\n",
       "      <td>0.396447</td>\n",
       "    </tr>\n",
       "    <tr>\n",
       "      <th>2</th>\n",
       "      <td>2</td>\n",
       "      <td>46.652695</td>\n",
       "      <td>687.612799</td>\n",
       "      <td>91.26536837560256</td>\n",
       "      <td>1.496401</td>\n",
       "      <td>4.0</td>\n",
       "      <td>0.822398</td>\n",
       "      <td>48.222882</td>\n",
       "      <td>4.191800</td>\n",
       "      <td>43.363708</td>\n",
       "      <td>NaN</td>\n",
       "      <td>1.814399755560454</td>\n",
       "      <td>1010.9226539809573</td>\n",
       "      <td>C3</td>\n",
       "      <td>E00</td>\n",
       "      <td>NaN</td>\n",
       "      <td>0.573776</td>\n",
       "    </tr>\n",
       "    <tr>\n",
       "      <th>3</th>\n",
       "      <td>3</td>\n",
       "      <td>53.339567</td>\n",
       "      <td>735.141179</td>\n",
       "      <td>96.19095521176159</td>\n",
       "      <td>18.491582</td>\n",
       "      <td>3.0</td>\n",
       "      <td>0.837529</td>\n",
       "      <td>46.295748</td>\n",
       "      <td>0.960567</td>\n",
       "      <td>57.720436</td>\n",
       "      <td>67.361473</td>\n",
       "      <td>8.736258932034128</td>\n",
       "      <td>1021.8466633134253</td>\n",
       "      <td>A1</td>\n",
       "      <td>NaN</td>\n",
       "      <td>dual-axis</td>\n",
       "      <td>0.629009</td>\n",
       "    </tr>\n",
       "    <tr>\n",
       "      <th>4</th>\n",
       "      <td>4</td>\n",
       "      <td>5.575374</td>\n",
       "      <td>12.241203</td>\n",
       "      <td>27.495073003585226</td>\n",
       "      <td>30.722697</td>\n",
       "      <td>6.0</td>\n",
       "      <td>0.551833</td>\n",
       "      <td>0.000000</td>\n",
       "      <td>0.898062</td>\n",
       "      <td>6.786263</td>\n",
       "      <td>3.632000</td>\n",
       "      <td>0.52268384077164</td>\n",
       "      <td>1008.5559577591927</td>\n",
       "      <td>B2</td>\n",
       "      <td>E00</td>\n",
       "      <td>fixed</td>\n",
       "      <td>0.341874</td>\n",
       "    </tr>\n",
       "    <tr>\n",
       "      <th>...</th>\n",
       "      <td>...</td>\n",
       "      <td>...</td>\n",
       "      <td>...</td>\n",
       "      <td>...</td>\n",
       "      <td>...</td>\n",
       "      <td>...</td>\n",
       "      <td>...</td>\n",
       "      <td>...</td>\n",
       "      <td>...</td>\n",
       "      <td>...</td>\n",
       "      <td>...</td>\n",
       "      <td>...</td>\n",
       "      <td>...</td>\n",
       "      <td>...</td>\n",
       "      <td>...</td>\n",
       "      <td>...</td>\n",
       "      <td>...</td>\n",
       "    </tr>\n",
       "    <tr>\n",
       "      <th>19995</th>\n",
       "      <td>19995</td>\n",
       "      <td>16.868428</td>\n",
       "      <td>NaN</td>\n",
       "      <td>93.53031757838667</td>\n",
       "      <td>14.393967</td>\n",
       "      <td>3.0</td>\n",
       "      <td>0.738911</td>\n",
       "      <td>12.147711</td>\n",
       "      <td>3.005355</td>\n",
       "      <td>26.206810</td>\n",
       "      <td>1.733013</td>\n",
       "      <td>12.594122273332914</td>\n",
       "      <td>1018.3744670739436</td>\n",
       "      <td>B2</td>\n",
       "      <td>E02</td>\n",
       "      <td>tracking</td>\n",
       "      <td>0.664907</td>\n",
       "    </tr>\n",
       "    <tr>\n",
       "      <th>19996</th>\n",
       "      <td>19996</td>\n",
       "      <td>53.415061</td>\n",
       "      <td>296.970303</td>\n",
       "      <td>93.98571391279083</td>\n",
       "      <td>25.997012</td>\n",
       "      <td>2.0</td>\n",
       "      <td>0.513061</td>\n",
       "      <td>0.000000</td>\n",
       "      <td>0.532119</td>\n",
       "      <td>65.000000</td>\n",
       "      <td>64.558667</td>\n",
       "      <td>0.9769909288128159</td>\n",
       "      <td>1016.081102065643</td>\n",
       "      <td>D4</td>\n",
       "      <td>E00</td>\n",
       "      <td>fixed</td>\n",
       "      <td>0.354070</td>\n",
       "    </tr>\n",
       "    <tr>\n",
       "      <th>19997</th>\n",
       "      <td>19997</td>\n",
       "      <td>2.442727</td>\n",
       "      <td>660.328019</td>\n",
       "      <td>37.9689180401391</td>\n",
       "      <td>32.818396</td>\n",
       "      <td>9.0</td>\n",
       "      <td>0.548602</td>\n",
       "      <td>13.047950</td>\n",
       "      <td>4.075498</td>\n",
       "      <td>11.584869</td>\n",
       "      <td>57.730134</td>\n",
       "      <td>4.750937249871706</td>\n",
       "      <td>1009.6844614602336</td>\n",
       "      <td>D4</td>\n",
       "      <td>NaN</td>\n",
       "      <td>tracking</td>\n",
       "      <td>0.419734</td>\n",
       "    </tr>\n",
       "    <tr>\n",
       "      <th>19998</th>\n",
       "      <td>19998</td>\n",
       "      <td>NaN</td>\n",
       "      <td>632.760700</td>\n",
       "      <td>43.01470184078199</td>\n",
       "      <td>19.063517</td>\n",
       "      <td>4.0</td>\n",
       "      <td>NaN</td>\n",
       "      <td>0.000000</td>\n",
       "      <td>1.068906</td>\n",
       "      <td>21.149351</td>\n",
       "      <td>78.123689</td>\n",
       "      <td>11.304158443374758</td>\n",
       "      <td>1006.6738746072241</td>\n",
       "      <td>A1</td>\n",
       "      <td>E00</td>\n",
       "      <td>tracking</td>\n",
       "      <td>0.661963</td>\n",
       "    </tr>\n",
       "    <tr>\n",
       "      <th>19999</th>\n",
       "      <td>19999</td>\n",
       "      <td>25.311591</td>\n",
       "      <td>793.745224</td>\n",
       "      <td>28.91878053813607</td>\n",
       "      <td>20.073134</td>\n",
       "      <td>1.0</td>\n",
       "      <td>0.971922</td>\n",
       "      <td>41.247616</td>\n",
       "      <td>4.017684</td>\n",
       "      <td>32.623079</td>\n",
       "      <td>95.807146</td>\n",
       "      <td>7.276421631094115</td>\n",
       "      <td>1017.3948041584918</td>\n",
       "      <td>C3</td>\n",
       "      <td>NaN</td>\n",
       "      <td>fixed</td>\n",
       "      <td>0.714566</td>\n",
       "    </tr>\n",
       "  </tbody>\n",
       "</table>\n",
       "<p>20000 rows × 17 columns</p>\n",
       "</div>"
      ],
      "text/plain": [
       "          id  temperature  irradiance            humidity  panel_age  \\\n",
       "0          0     7.817315  576.179270   41.24308670850264  32.135501   \n",
       "1          1    24.785727  240.003973  1.3596482765960705  19.977460   \n",
       "2          2    46.652695  687.612799   91.26536837560256   1.496401   \n",
       "3          3    53.339567  735.141179   96.19095521176159  18.491582   \n",
       "4          4     5.575374   12.241203  27.495073003585226  30.722697   \n",
       "...      ...          ...         ...                 ...        ...   \n",
       "19995  19995    16.868428         NaN   93.53031757838667  14.393967   \n",
       "19996  19996    53.415061  296.970303   93.98571391279083  25.997012   \n",
       "19997  19997     2.442727  660.328019    37.9689180401391  32.818396   \n",
       "19998  19998          NaN  632.760700   43.01470184078199  19.063517   \n",
       "19999  19999    25.311591  793.745224   28.91878053813607  20.073134   \n",
       "\n",
       "       maintenance_count  soiling_ratio    voltage   current  \\\n",
       "0                    4.0       0.803199  37.403527  1.963787   \n",
       "1                    8.0       0.479456  21.843315  0.241473   \n",
       "2                    4.0       0.822398  48.222882  4.191800   \n",
       "3                    3.0       0.837529  46.295748  0.960567   \n",
       "4                    6.0       0.551833   0.000000  0.898062   \n",
       "...                  ...            ...        ...       ...   \n",
       "19995                3.0       0.738911  12.147711  3.005355   \n",
       "19996                2.0       0.513061   0.000000  0.532119   \n",
       "19997                9.0       0.548602  13.047950  4.075498   \n",
       "19998                4.0            NaN   0.000000  1.068906   \n",
       "19999                1.0       0.971922  41.247616  4.017684   \n",
       "\n",
       "       module_temperature  cloud_coverage          wind_speed  \\\n",
       "0               13.691147       62.494044   12.82491203459621   \n",
       "1               27.545096       43.851238  12.012043660984917   \n",
       "2               43.363708             NaN   1.814399755560454   \n",
       "3               57.720436       67.361473   8.736258932034128   \n",
       "4                6.786263        3.632000    0.52268384077164   \n",
       "...                   ...             ...                 ...   \n",
       "19995           26.206810        1.733013  12.594122273332914   \n",
       "19996           65.000000       64.558667  0.9769909288128159   \n",
       "19997           11.584869       57.730134   4.750937249871706   \n",
       "19998           21.149351       78.123689  11.304158443374758   \n",
       "19999           32.623079       95.807146   7.276421631094115   \n",
       "\n",
       "                 pressure string_id error_code installation_type  efficiency  \n",
       "0      1018.8665053152533        A1        NaN               NaN    0.562096  \n",
       "1      1025.6238537572883        D4        E00         dual-axis    0.396447  \n",
       "2      1010.9226539809573        C3        E00               NaN    0.573776  \n",
       "3      1021.8466633134253        A1        NaN         dual-axis    0.629009  \n",
       "4      1008.5559577591927        B2        E00             fixed    0.341874  \n",
       "...                   ...       ...        ...               ...         ...  \n",
       "19995  1018.3744670739436        B2        E02          tracking    0.664907  \n",
       "19996   1016.081102065643        D4        E00             fixed    0.354070  \n",
       "19997  1009.6844614602336        D4        NaN          tracking    0.419734  \n",
       "19998  1006.6738746072241        A1        E00          tracking    0.661963  \n",
       "19999  1017.3948041584918        C3        NaN             fixed    0.714566  \n",
       "\n",
       "[20000 rows x 17 columns]"
      ]
     },
     "execution_count": 188,
     "metadata": {},
     "output_type": "execute_result"
    }
   ],
   "source": [
    "df = pd.read_csv(r'C:\\Users\\kumara\\Downloads\\1a513221-3-dataset\\dataset\\train.csv')\n",
    "df"
   ]
  },
  {
   "cell_type": "code",
   "execution_count": 189,
   "id": "f1dd0a39",
   "metadata": {},
   "outputs": [
    {
     "data": {
      "text/plain": [
       "(20000, 17)"
      ]
     },
     "execution_count": 189,
     "metadata": {},
     "output_type": "execute_result"
    }
   ],
   "source": [
    "df.shape"
   ]
  },
  {
   "cell_type": "code",
   "execution_count": 190,
   "id": "a0e1a9ba",
   "metadata": {},
   "outputs": [
    {
     "data": {
      "text/plain": [
       "340000"
      ]
     },
     "execution_count": 190,
     "metadata": {},
     "output_type": "execute_result"
    }
   ],
   "source": [
    "df.size"
   ]
  },
  {
   "cell_type": "code",
   "execution_count": 191,
   "id": "31911e1e",
   "metadata": {},
   "outputs": [
    {
     "name": "stdout",
     "output_type": "stream",
     "text": [
      "<class 'pandas.core.frame.DataFrame'>\n",
      "RangeIndex: 20000 entries, 0 to 19999\n",
      "Data columns (total 17 columns):\n",
      " #   Column              Non-Null Count  Dtype  \n",
      "---  ------              --------------  -----  \n",
      " 0   id                  20000 non-null  int64  \n",
      " 1   temperature         18999 non-null  float64\n",
      " 2   irradiance          19013 non-null  float64\n",
      " 3   humidity            20000 non-null  object \n",
      " 4   panel_age           18989 non-null  float64\n",
      " 5   maintenance_count   18973 non-null  float64\n",
      " 6   soiling_ratio       18990 non-null  float64\n",
      " 7   voltage             19007 non-null  float64\n",
      " 8   current             19023 non-null  float64\n",
      " 9   module_temperature  19022 non-null  float64\n",
      " 10  cloud_coverage      18990 non-null  float64\n",
      " 11  wind_speed          20000 non-null  object \n",
      " 12  pressure            20000 non-null  object \n",
      " 13  string_id           20000 non-null  object \n",
      " 14  error_code          14088 non-null  object \n",
      " 15  installation_type   14972 non-null  object \n",
      " 16  efficiency          20000 non-null  float64\n",
      "dtypes: float64(10), int64(1), object(6)\n",
      "memory usage: 2.6+ MB\n"
     ]
    }
   ],
   "source": [
    "df.info()"
   ]
  },
  {
   "cell_type": "code",
   "execution_count": 192,
   "id": "614de5a7",
   "metadata": {},
   "outputs": [
    {
     "data": {
      "text/html": [
       "<div>\n",
       "<style scoped>\n",
       "    .dataframe tbody tr th:only-of-type {\n",
       "        vertical-align: middle;\n",
       "    }\n",
       "\n",
       "    .dataframe tbody tr th {\n",
       "        vertical-align: top;\n",
       "    }\n",
       "\n",
       "    .dataframe thead th {\n",
       "        text-align: right;\n",
       "    }\n",
       "</style>\n",
       "<table border=\"1\" class=\"dataframe\">\n",
       "  <thead>\n",
       "    <tr style=\"text-align: right;\">\n",
       "      <th></th>\n",
       "      <th>count</th>\n",
       "      <th>mean</th>\n",
       "      <th>std</th>\n",
       "      <th>min</th>\n",
       "      <th>25%</th>\n",
       "      <th>50%</th>\n",
       "      <th>75%</th>\n",
       "      <th>max</th>\n",
       "    </tr>\n",
       "  </thead>\n",
       "  <tbody>\n",
       "    <tr>\n",
       "      <th>id</th>\n",
       "      <td>20000.0</td>\n",
       "      <td>9999.500000</td>\n",
       "      <td>5773.647028</td>\n",
       "      <td>0.000000</td>\n",
       "      <td>4999.750000</td>\n",
       "      <td>9999.500000</td>\n",
       "      <td>14999.250000</td>\n",
       "      <td>19999.000000</td>\n",
       "    </tr>\n",
       "    <tr>\n",
       "      <th>temperature</th>\n",
       "      <td>18999.0</td>\n",
       "      <td>25.077241</td>\n",
       "      <td>12.513129</td>\n",
       "      <td>0.000000</td>\n",
       "      <td>16.853522</td>\n",
       "      <td>24.720345</td>\n",
       "      <td>32.848917</td>\n",
       "      <td>147.394168</td>\n",
       "    </tr>\n",
       "    <tr>\n",
       "      <th>irradiance</th>\n",
       "      <td>19013.0</td>\n",
       "      <td>501.273896</td>\n",
       "      <td>250.926590</td>\n",
       "      <td>-597.278646</td>\n",
       "      <td>332.227277</td>\n",
       "      <td>499.654730</td>\n",
       "      <td>668.416734</td>\n",
       "      <td>1537.810349</td>\n",
       "    </tr>\n",
       "    <tr>\n",
       "      <th>panel_age</th>\n",
       "      <td>18989.0</td>\n",
       "      <td>17.509758</td>\n",
       "      <td>10.097557</td>\n",
       "      <td>0.001264</td>\n",
       "      <td>8.777905</td>\n",
       "      <td>17.497731</td>\n",
       "      <td>26.340761</td>\n",
       "      <td>34.998379</td>\n",
       "    </tr>\n",
       "    <tr>\n",
       "      <th>maintenance_count</th>\n",
       "      <td>18973.0</td>\n",
       "      <td>4.012070</td>\n",
       "      <td>2.002268</td>\n",
       "      <td>0.000000</td>\n",
       "      <td>3.000000</td>\n",
       "      <td>4.000000</td>\n",
       "      <td>5.000000</td>\n",
       "      <td>15.000000</td>\n",
       "    </tr>\n",
       "    <tr>\n",
       "      <th>soiling_ratio</th>\n",
       "      <td>18990.0</td>\n",
       "      <td>0.698879</td>\n",
       "      <td>0.172244</td>\n",
       "      <td>0.400149</td>\n",
       "      <td>0.550654</td>\n",
       "      <td>0.697663</td>\n",
       "      <td>0.847838</td>\n",
       "      <td>0.999949</td>\n",
       "    </tr>\n",
       "    <tr>\n",
       "      <th>voltage</th>\n",
       "      <td>19007.0</td>\n",
       "      <td>16.242251</td>\n",
       "      <td>17.889031</td>\n",
       "      <td>0.000000</td>\n",
       "      <td>0.000000</td>\n",
       "      <td>12.350138</td>\n",
       "      <td>26.557322</td>\n",
       "      <td>494.279016</td>\n",
       "    </tr>\n",
       "    <tr>\n",
       "      <th>current</th>\n",
       "      <td>19023.0</td>\n",
       "      <td>1.713396</td>\n",
       "      <td>1.152953</td>\n",
       "      <td>0.000054</td>\n",
       "      <td>0.772311</td>\n",
       "      <td>1.558413</td>\n",
       "      <td>2.474744</td>\n",
       "      <td>7.315597</td>\n",
       "    </tr>\n",
       "    <tr>\n",
       "      <th>module_temperature</th>\n",
       "      <td>19022.0</td>\n",
       "      <td>29.923807</td>\n",
       "      <td>12.125405</td>\n",
       "      <td>0.000000</td>\n",
       "      <td>21.522124</td>\n",
       "      <td>29.857669</td>\n",
       "      <td>38.094943</td>\n",
       "      <td>65.000000</td>\n",
       "    </tr>\n",
       "    <tr>\n",
       "      <th>cloud_coverage</th>\n",
       "      <td>18990.0</td>\n",
       "      <td>51.378575</td>\n",
       "      <td>48.473664</td>\n",
       "      <td>0.000244</td>\n",
       "      <td>25.081618</td>\n",
       "      <td>49.704133</td>\n",
       "      <td>75.052824</td>\n",
       "      <td>1000.000000</td>\n",
       "    </tr>\n",
       "    <tr>\n",
       "      <th>efficiency</th>\n",
       "      <td>20000.0</td>\n",
       "      <td>0.510260</td>\n",
       "      <td>0.140420</td>\n",
       "      <td>0.000000</td>\n",
       "      <td>0.445613</td>\n",
       "      <td>0.515709</td>\n",
       "      <td>0.590324</td>\n",
       "      <td>0.987066</td>\n",
       "    </tr>\n",
       "  </tbody>\n",
       "</table>\n",
       "</div>"
      ],
      "text/plain": [
       "                      count         mean          std         min  \\\n",
       "id                  20000.0  9999.500000  5773.647028    0.000000   \n",
       "temperature         18999.0    25.077241    12.513129    0.000000   \n",
       "irradiance          19013.0   501.273896   250.926590 -597.278646   \n",
       "panel_age           18989.0    17.509758    10.097557    0.001264   \n",
       "maintenance_count   18973.0     4.012070     2.002268    0.000000   \n",
       "soiling_ratio       18990.0     0.698879     0.172244    0.400149   \n",
       "voltage             19007.0    16.242251    17.889031    0.000000   \n",
       "current             19023.0     1.713396     1.152953    0.000054   \n",
       "module_temperature  19022.0    29.923807    12.125405    0.000000   \n",
       "cloud_coverage      18990.0    51.378575    48.473664    0.000244   \n",
       "efficiency          20000.0     0.510260     0.140420    0.000000   \n",
       "\n",
       "                            25%          50%           75%           max  \n",
       "id                  4999.750000  9999.500000  14999.250000  19999.000000  \n",
       "temperature           16.853522    24.720345     32.848917    147.394168  \n",
       "irradiance           332.227277   499.654730    668.416734   1537.810349  \n",
       "panel_age              8.777905    17.497731     26.340761     34.998379  \n",
       "maintenance_count      3.000000     4.000000      5.000000     15.000000  \n",
       "soiling_ratio          0.550654     0.697663      0.847838      0.999949  \n",
       "voltage                0.000000    12.350138     26.557322    494.279016  \n",
       "current                0.772311     1.558413      2.474744      7.315597  \n",
       "module_temperature    21.522124    29.857669     38.094943     65.000000  \n",
       "cloud_coverage        25.081618    49.704133     75.052824   1000.000000  \n",
       "efficiency             0.445613     0.515709      0.590324      0.987066  "
      ]
     },
     "execution_count": 192,
     "metadata": {},
     "output_type": "execute_result"
    }
   ],
   "source": [
    "df.describe().transpose() # this will select only the numeric rows"
   ]
  },
  {
   "cell_type": "code",
   "execution_count": 193,
   "id": "bd06d670",
   "metadata": {},
   "outputs": [
    {
     "data": {
      "text/html": [
       "<div>\n",
       "<style scoped>\n",
       "    .dataframe tbody tr th:only-of-type {\n",
       "        vertical-align: middle;\n",
       "    }\n",
       "\n",
       "    .dataframe tbody tr th {\n",
       "        vertical-align: top;\n",
       "    }\n",
       "\n",
       "    .dataframe thead th {\n",
       "        text-align: right;\n",
       "    }\n",
       "</style>\n",
       "<table border=\"1\" class=\"dataframe\">\n",
       "  <thead>\n",
       "    <tr style=\"text-align: right;\">\n",
       "      <th></th>\n",
       "      <th>id</th>\n",
       "      <th>temperature</th>\n",
       "      <th>irradiance</th>\n",
       "      <th>humidity</th>\n",
       "      <th>panel_age</th>\n",
       "      <th>maintenance_count</th>\n",
       "      <th>soiling_ratio</th>\n",
       "      <th>voltage</th>\n",
       "      <th>current</th>\n",
       "      <th>module_temperature</th>\n",
       "      <th>cloud_coverage</th>\n",
       "      <th>wind_speed</th>\n",
       "      <th>pressure</th>\n",
       "      <th>string_id</th>\n",
       "      <th>error_code</th>\n",
       "      <th>installation_type</th>\n",
       "      <th>efficiency</th>\n",
       "    </tr>\n",
       "  </thead>\n",
       "  <tbody>\n",
       "    <tr>\n",
       "      <th>1616</th>\n",
       "      <td>1616</td>\n",
       "      <td>30.160975</td>\n",
       "      <td>1228.561162</td>\n",
       "      <td>26.450265215585077</td>\n",
       "      <td>3.988241</td>\n",
       "      <td>10.0</td>\n",
       "      <td>0.943199</td>\n",
       "      <td>17.583248</td>\n",
       "      <td>4.842217</td>\n",
       "      <td>29.477682</td>\n",
       "      <td>67.952173</td>\n",
       "      <td>8.36247200704732</td>\n",
       "      <td>1016.4608719691104</td>\n",
       "      <td>B2</td>\n",
       "      <td>NaN</td>\n",
       "      <td>fixed</td>\n",
       "      <td>0.987066</td>\n",
       "    </tr>\n",
       "  </tbody>\n",
       "</table>\n",
       "</div>"
      ],
      "text/plain": [
       "        id  temperature   irradiance            humidity  panel_age  \\\n",
       "1616  1616    30.160975  1228.561162  26.450265215585077   3.988241   \n",
       "\n",
       "      maintenance_count  soiling_ratio    voltage   current  \\\n",
       "1616               10.0       0.943199  17.583248  4.842217   \n",
       "\n",
       "      module_temperature  cloud_coverage        wind_speed  \\\n",
       "1616           29.477682       67.952173  8.36247200704732   \n",
       "\n",
       "                pressure string_id error_code installation_type  efficiency  \n",
       "1616  1016.4608719691104        B2        NaN             fixed    0.987066  "
      ]
     },
     "execution_count": 193,
     "metadata": {},
     "output_type": "execute_result"
    }
   ],
   "source": [
    "df[df['efficiency'] == df['efficiency'].max()]"
   ]
  },
  {
   "cell_type": "code",
   "execution_count": 194,
   "id": "1591c013",
   "metadata": {},
   "outputs": [
    {
     "data": {
      "text/plain": [
       "wind_speed\n",
       "badval                42\n",
       "error                 41\n",
       "unknown               36\n",
       "1.4004639058482033     1\n",
       "4.676583637669918      1\n",
       "                      ..\n",
       "9.196479438626795      1\n",
       "0.7985304351521505     1\n",
       "7.767053830591635      1\n",
       "3.0572137101487558     1\n",
       "8.321732514520054      1\n",
       "Name: count, Length: 19884, dtype: int64"
      ]
     },
     "execution_count": 194,
     "metadata": {},
     "output_type": "execute_result"
    }
   ],
   "source": [
    "df['wind_speed'].value_counts()\n"
   ]
  },
  {
   "cell_type": "code",
   "execution_count": 195,
   "id": "5e746e02",
   "metadata": {},
   "outputs": [
    {
     "data": {
      "text/plain": [
       "pressure\n",
       "unknown               46\n",
       "error                 45\n",
       "badval                44\n",
       "1012.8003752419361     1\n",
       "1001.3287852158609     1\n",
       "                      ..\n",
       "1021.4074573669117     1\n",
       "1008.7504815771696     1\n",
       "1014.7401210245107     1\n",
       "1006.4182950874194     1\n",
       "1030.4971803983756     1\n",
       "Name: count, Length: 19868, dtype: int64"
      ]
     },
     "execution_count": 195,
     "metadata": {},
     "output_type": "execute_result"
    }
   ],
   "source": [
    "df['pressure'].value_counts()"
   ]
  },
  {
   "cell_type": "code",
   "execution_count": 196,
   "id": "170edb59",
   "metadata": {},
   "outputs": [
    {
     "data": {
      "text/html": [
       "<div>\n",
       "<style scoped>\n",
       "    .dataframe tbody tr th:only-of-type {\n",
       "        vertical-align: middle;\n",
       "    }\n",
       "\n",
       "    .dataframe tbody tr th {\n",
       "        vertical-align: top;\n",
       "    }\n",
       "\n",
       "    .dataframe thead th {\n",
       "        text-align: right;\n",
       "    }\n",
       "</style>\n",
       "<table border=\"1\" class=\"dataframe\">\n",
       "  <thead>\n",
       "    <tr style=\"text-align: right;\">\n",
       "      <th></th>\n",
       "      <th>id</th>\n",
       "      <th>temperature</th>\n",
       "      <th>irradiance</th>\n",
       "      <th>humidity</th>\n",
       "      <th>panel_age</th>\n",
       "      <th>maintenance_count</th>\n",
       "      <th>soiling_ratio</th>\n",
       "      <th>voltage</th>\n",
       "      <th>current</th>\n",
       "      <th>module_temperature</th>\n",
       "      <th>cloud_coverage</th>\n",
       "      <th>wind_speed</th>\n",
       "      <th>pressure</th>\n",
       "      <th>string_id</th>\n",
       "      <th>error_code</th>\n",
       "      <th>installation_type</th>\n",
       "      <th>efficiency</th>\n",
       "    </tr>\n",
       "  </thead>\n",
       "  <tbody>\n",
       "    <tr>\n",
       "      <th>40</th>\n",
       "      <td>40</td>\n",
       "      <td>47.973606</td>\n",
       "      <td>NaN</td>\n",
       "      <td>22.058748668559303</td>\n",
       "      <td>16.093618</td>\n",
       "      <td>4.0</td>\n",
       "      <td>0.428969</td>\n",
       "      <td>47.819612</td>\n",
       "      <td>3.264913</td>\n",
       "      <td>52.238395</td>\n",
       "      <td>80.213642</td>\n",
       "      <td>2.7854029076788285</td>\n",
       "      <td>unknown</td>\n",
       "      <td>B2</td>\n",
       "      <td>E01</td>\n",
       "      <td>tracking</td>\n",
       "      <td>0.515999</td>\n",
       "    </tr>\n",
       "    <tr>\n",
       "      <th>79</th>\n",
       "      <td>79</td>\n",
       "      <td>1.891977</td>\n",
       "      <td>422.663365</td>\n",
       "      <td>36.660789342772034</td>\n",
       "      <td>11.312273</td>\n",
       "      <td>2.0</td>\n",
       "      <td>0.483908</td>\n",
       "      <td>2.548296</td>\n",
       "      <td>0.479120</td>\n",
       "      <td>7.818356</td>\n",
       "      <td>14.493848</td>\n",
       "      <td>7.80719789753973</td>\n",
       "      <td>unknown</td>\n",
       "      <td>D4</td>\n",
       "      <td>NaN</td>\n",
       "      <td>fixed</td>\n",
       "      <td>0.484963</td>\n",
       "    </tr>\n",
       "    <tr>\n",
       "      <th>94</th>\n",
       "      <td>94</td>\n",
       "      <td>40.368922</td>\n",
       "      <td>78.166392</td>\n",
       "      <td>83.62935788403288</td>\n",
       "      <td>4.336180</td>\n",
       "      <td>6.0</td>\n",
       "      <td>0.841042</td>\n",
       "      <td>28.894706</td>\n",
       "      <td>0.070557</td>\n",
       "      <td>45.190447</td>\n",
       "      <td>76.587267</td>\n",
       "      <td>0.7230370811744813</td>\n",
       "      <td>unknown</td>\n",
       "      <td>D4</td>\n",
       "      <td>NaN</td>\n",
       "      <td>fixed</td>\n",
       "      <td>0.435985</td>\n",
       "    </tr>\n",
       "    <tr>\n",
       "      <th>187</th>\n",
       "      <td>187</td>\n",
       "      <td>12.942382</td>\n",
       "      <td>193.882742</td>\n",
       "      <td>14.825030046292975</td>\n",
       "      <td>23.979997</td>\n",
       "      <td>6.0</td>\n",
       "      <td>0.680431</td>\n",
       "      <td>0.000000</td>\n",
       "      <td>1.349382</td>\n",
       "      <td>18.503371</td>\n",
       "      <td>29.296724</td>\n",
       "      <td>2.5304860869622026</td>\n",
       "      <td>unknown</td>\n",
       "      <td>C3</td>\n",
       "      <td>E00</td>\n",
       "      <td>tracking</td>\n",
       "      <td>0.412498</td>\n",
       "    </tr>\n",
       "    <tr>\n",
       "      <th>228</th>\n",
       "      <td>228</td>\n",
       "      <td>26.726921</td>\n",
       "      <td>286.689162</td>\n",
       "      <td>99.433526840726</td>\n",
       "      <td>22.590687</td>\n",
       "      <td>4.0</td>\n",
       "      <td>0.735756</td>\n",
       "      <td>NaN</td>\n",
       "      <td>0.555327</td>\n",
       "      <td>30.436082</td>\n",
       "      <td>52.092448</td>\n",
       "      <td>11.216905103677677</td>\n",
       "      <td>badval</td>\n",
       "      <td>B2</td>\n",
       "      <td>E02</td>\n",
       "      <td>fixed</td>\n",
       "      <td>0.395336</td>\n",
       "    </tr>\n",
       "    <tr>\n",
       "      <th>...</th>\n",
       "      <td>...</td>\n",
       "      <td>...</td>\n",
       "      <td>...</td>\n",
       "      <td>...</td>\n",
       "      <td>...</td>\n",
       "      <td>...</td>\n",
       "      <td>...</td>\n",
       "      <td>...</td>\n",
       "      <td>...</td>\n",
       "      <td>...</td>\n",
       "      <td>...</td>\n",
       "      <td>...</td>\n",
       "      <td>...</td>\n",
       "      <td>...</td>\n",
       "      <td>...</td>\n",
       "      <td>...</td>\n",
       "      <td>...</td>\n",
       "    </tr>\n",
       "    <tr>\n",
       "      <th>19505</th>\n",
       "      <td>19505</td>\n",
       "      <td>37.167240</td>\n",
       "      <td>558.010651</td>\n",
       "      <td>6.431461610112487</td>\n",
       "      <td>24.904775</td>\n",
       "      <td>3.0</td>\n",
       "      <td>0.511923</td>\n",
       "      <td>10.350710</td>\n",
       "      <td>1.308435</td>\n",
       "      <td>38.203510</td>\n",
       "      <td>NaN</td>\n",
       "      <td>4.274765098164273</td>\n",
       "      <td>badval</td>\n",
       "      <td>D4</td>\n",
       "      <td>E00</td>\n",
       "      <td>NaN</td>\n",
       "      <td>0.441483</td>\n",
       "    </tr>\n",
       "    <tr>\n",
       "      <th>19543</th>\n",
       "      <td>19543</td>\n",
       "      <td>25.404976</td>\n",
       "      <td>481.071234</td>\n",
       "      <td>22.801095249618697</td>\n",
       "      <td>15.689368</td>\n",
       "      <td>0.0</td>\n",
       "      <td>0.416402</td>\n",
       "      <td>7.713185</td>\n",
       "      <td>2.775103</td>\n",
       "      <td>36.081079</td>\n",
       "      <td>81.419422</td>\n",
       "      <td>12.128268170331731</td>\n",
       "      <td>unknown</td>\n",
       "      <td>A1</td>\n",
       "      <td>E00</td>\n",
       "      <td>dual-axis</td>\n",
       "      <td>0.460354</td>\n",
       "    </tr>\n",
       "    <tr>\n",
       "      <th>19626</th>\n",
       "      <td>19626</td>\n",
       "      <td>39.784297</td>\n",
       "      <td>669.728364</td>\n",
       "      <td>27.975323166237022</td>\n",
       "      <td>32.703050</td>\n",
       "      <td>5.0</td>\n",
       "      <td>0.737207</td>\n",
       "      <td>70.823170</td>\n",
       "      <td>0.681198</td>\n",
       "      <td>41.566154</td>\n",
       "      <td>52.773546</td>\n",
       "      <td>8.494866395022155</td>\n",
       "      <td>error</td>\n",
       "      <td>B2</td>\n",
       "      <td>E02</td>\n",
       "      <td>NaN</td>\n",
       "      <td>0.542955</td>\n",
       "    </tr>\n",
       "    <tr>\n",
       "      <th>19760</th>\n",
       "      <td>19760</td>\n",
       "      <td>13.751447</td>\n",
       "      <td>483.938795</td>\n",
       "      <td>74.28739629809242</td>\n",
       "      <td>14.937022</td>\n",
       "      <td>4.0</td>\n",
       "      <td>0.588709</td>\n",
       "      <td>19.464720</td>\n",
       "      <td>1.905392</td>\n",
       "      <td>18.353161</td>\n",
       "      <td>23.103253</td>\n",
       "      <td>7.7107782580320094</td>\n",
       "      <td>badval</td>\n",
       "      <td>A1</td>\n",
       "      <td>E02</td>\n",
       "      <td>NaN</td>\n",
       "      <td>0.469591</td>\n",
       "    </tr>\n",
       "    <tr>\n",
       "      <th>19916</th>\n",
       "      <td>19916</td>\n",
       "      <td>18.706583</td>\n",
       "      <td>639.693461</td>\n",
       "      <td>32.441951296201246</td>\n",
       "      <td>25.190407</td>\n",
       "      <td>0.0</td>\n",
       "      <td>0.870895</td>\n",
       "      <td>0.000000</td>\n",
       "      <td>2.408380</td>\n",
       "      <td>23.780575</td>\n",
       "      <td>1.104333</td>\n",
       "      <td>13.825285886446759</td>\n",
       "      <td>unknown</td>\n",
       "      <td>C3</td>\n",
       "      <td>E02</td>\n",
       "      <td>tracking</td>\n",
       "      <td>0.689679</td>\n",
       "    </tr>\n",
       "  </tbody>\n",
       "</table>\n",
       "<p>135 rows × 17 columns</p>\n",
       "</div>"
      ],
      "text/plain": [
       "          id  temperature  irradiance            humidity  panel_age  \\\n",
       "40        40    47.973606         NaN  22.058748668559303  16.093618   \n",
       "79        79     1.891977  422.663365  36.660789342772034  11.312273   \n",
       "94        94    40.368922   78.166392   83.62935788403288   4.336180   \n",
       "187      187    12.942382  193.882742  14.825030046292975  23.979997   \n",
       "228      228    26.726921  286.689162     99.433526840726  22.590687   \n",
       "...      ...          ...         ...                 ...        ...   \n",
       "19505  19505    37.167240  558.010651   6.431461610112487  24.904775   \n",
       "19543  19543    25.404976  481.071234  22.801095249618697  15.689368   \n",
       "19626  19626    39.784297  669.728364  27.975323166237022  32.703050   \n",
       "19760  19760    13.751447  483.938795   74.28739629809242  14.937022   \n",
       "19916  19916    18.706583  639.693461  32.441951296201246  25.190407   \n",
       "\n",
       "       maintenance_count  soiling_ratio    voltage   current  \\\n",
       "40                   4.0       0.428969  47.819612  3.264913   \n",
       "79                   2.0       0.483908   2.548296  0.479120   \n",
       "94                   6.0       0.841042  28.894706  0.070557   \n",
       "187                  6.0       0.680431   0.000000  1.349382   \n",
       "228                  4.0       0.735756        NaN  0.555327   \n",
       "...                  ...            ...        ...       ...   \n",
       "19505                3.0       0.511923  10.350710  1.308435   \n",
       "19543                0.0       0.416402   7.713185  2.775103   \n",
       "19626                5.0       0.737207  70.823170  0.681198   \n",
       "19760                4.0       0.588709  19.464720  1.905392   \n",
       "19916                0.0       0.870895   0.000000  2.408380   \n",
       "\n",
       "       module_temperature  cloud_coverage          wind_speed pressure  \\\n",
       "40              52.238395       80.213642  2.7854029076788285  unknown   \n",
       "79               7.818356       14.493848    7.80719789753973  unknown   \n",
       "94              45.190447       76.587267  0.7230370811744813  unknown   \n",
       "187             18.503371       29.296724  2.5304860869622026  unknown   \n",
       "228             30.436082       52.092448  11.216905103677677   badval   \n",
       "...                   ...             ...                 ...      ...   \n",
       "19505           38.203510             NaN   4.274765098164273   badval   \n",
       "19543           36.081079       81.419422  12.128268170331731  unknown   \n",
       "19626           41.566154       52.773546   8.494866395022155    error   \n",
       "19760           18.353161       23.103253  7.7107782580320094   badval   \n",
       "19916           23.780575        1.104333  13.825285886446759  unknown   \n",
       "\n",
       "      string_id error_code installation_type  efficiency  \n",
       "40           B2        E01          tracking    0.515999  \n",
       "79           D4        NaN             fixed    0.484963  \n",
       "94           D4        NaN             fixed    0.435985  \n",
       "187          C3        E00          tracking    0.412498  \n",
       "228          B2        E02             fixed    0.395336  \n",
       "...         ...        ...               ...         ...  \n",
       "19505        D4        E00               NaN    0.441483  \n",
       "19543        A1        E00         dual-axis    0.460354  \n",
       "19626        B2        E02               NaN    0.542955  \n",
       "19760        A1        E02               NaN    0.469591  \n",
       "19916        C3        E02          tracking    0.689679  \n",
       "\n",
       "[135 rows x 17 columns]"
      ]
     },
     "execution_count": 196,
     "metadata": {},
     "output_type": "execute_result"
    }
   ],
   "source": [
    "df.loc[df['pressure'].isin(['badval','error', 'unknown'])]"
   ]
  },
  {
   "cell_type": "code",
   "execution_count": 197,
   "id": "dceecb9b",
   "metadata": {},
   "outputs": [
    {
     "data": {
      "text/plain": [
       "temperature\n",
       "0.000000      389\n",
       "60.000000      32\n",
       "100.000000      2\n",
       "25.311591       1\n",
       "7.817315        1\n",
       "             ... \n",
       "28.091359       1\n",
       "37.652488       1\n",
       "7.981089        1\n",
       "21.097337       1\n",
       "53.339567       1\n",
       "Name: count, Length: 18579, dtype: int64"
      ]
     },
     "execution_count": 197,
     "metadata": {},
     "output_type": "execute_result"
    }
   ],
   "source": [
    "df['temperature'].value_counts()"
   ]
  },
  {
   "cell_type": "markdown",
   "id": "3cf90c0c",
   "metadata": {},
   "source": [
    "Maximum temperatures are found as zero and the max temperature is above 100"
   ]
  },
  {
   "cell_type": "code",
   "execution_count": 198,
   "id": "7c2b417c",
   "metadata": {},
   "outputs": [
    {
     "data": {
      "text/plain": [
       "irradiance\n",
       "576.179270    1\n",
       "240.003973    1\n",
       "687.612799    1\n",
       "735.141179    1\n",
       "12.241203     1\n",
       "             ..\n",
       "258.801247    1\n",
       "296.970303    1\n",
       "660.328019    1\n",
       "632.760700    1\n",
       "793.745224    1\n",
       "Name: count, Length: 19013, dtype: int64"
      ]
     },
     "execution_count": 198,
     "metadata": {},
     "output_type": "execute_result"
    }
   ],
   "source": [
    "df['irradiance'].value_counts()"
   ]
  },
  {
   "cell_type": "code",
   "execution_count": 199,
   "id": "78911562",
   "metadata": {},
   "outputs": [
    {
     "data": {
      "text/plain": [
       "np.int64(987)"
      ]
     },
     "execution_count": 199,
     "metadata": {},
     "output_type": "execute_result"
    }
   ],
   "source": [
    "df['irradiance'].isna().sum()"
   ]
  },
  {
   "cell_type": "code",
   "execution_count": 200,
   "id": "e0cc2581",
   "metadata": {},
   "outputs": [
    {
     "data": {
      "text/plain": [
       "panel_age\n",
       "32.135501    1\n",
       "19.977460    1\n",
       "1.496401     1\n",
       "18.491582    1\n",
       "30.722697    1\n",
       "            ..\n",
       "14.393967    1\n",
       "25.997012    1\n",
       "32.818396    1\n",
       "19.063517    1\n",
       "20.073134    1\n",
       "Name: count, Length: 18989, dtype: int64"
      ]
     },
     "execution_count": 200,
     "metadata": {},
     "output_type": "execute_result"
    }
   ],
   "source": [
    "df['panel_age'].value_counts()"
   ]
  },
  {
   "cell_type": "code",
   "execution_count": 201,
   "id": "1a2c7fbb",
   "metadata": {},
   "outputs": [
    {
     "data": {
      "text/plain": [
       "np.int64(1011)"
      ]
     },
     "execution_count": 201,
     "metadata": {},
     "output_type": "execute_result"
    }
   ],
   "source": [
    "df['panel_age'].isna().sum()"
   ]
  },
  {
   "cell_type": "code",
   "execution_count": 202,
   "id": "f9f4075b",
   "metadata": {},
   "outputs": [
    {
     "data": {
      "text/plain": [
       "maintenance_count\n",
       "3.0     3744\n",
       "4.0     3703\n",
       "5.0     2988\n",
       "2.0     2785\n",
       "6.0     1948\n",
       "1.0     1331\n",
       "7.0     1108\n",
       "8.0      593\n",
       "0.0      349\n",
       "9.0      271\n",
       "10.0      98\n",
       "11.0      37\n",
       "12.0      14\n",
       "13.0       3\n",
       "15.0       1\n",
       "Name: count, dtype: int64"
      ]
     },
     "execution_count": 202,
     "metadata": {},
     "output_type": "execute_result"
    }
   ],
   "source": [
    "df['maintenance_count'].value_counts()"
   ]
  },
  {
   "cell_type": "code",
   "execution_count": 203,
   "id": "ca349888",
   "metadata": {},
   "outputs": [
    {
     "data": {
      "text/plain": [
       "np.int64(1027)"
      ]
     },
     "execution_count": 203,
     "metadata": {},
     "output_type": "execute_result"
    }
   ],
   "source": [
    "df['maintenance_count'].isna().sum()"
   ]
  },
  {
   "cell_type": "code",
   "execution_count": 204,
   "id": "1f689d98",
   "metadata": {},
   "outputs": [
    {
     "data": {
      "text/plain": [
       "soiling_ratio\n",
       "0.803199    1\n",
       "0.479456    1\n",
       "0.822398    1\n",
       "0.837529    1\n",
       "0.551833    1\n",
       "           ..\n",
       "0.660319    1\n",
       "0.738911    1\n",
       "0.513061    1\n",
       "0.548602    1\n",
       "0.971922    1\n",
       "Name: count, Length: 18990, dtype: int64"
      ]
     },
     "execution_count": 204,
     "metadata": {},
     "output_type": "execute_result"
    }
   ],
   "source": [
    "df['soiling_ratio'].value_counts()"
   ]
  },
  {
   "cell_type": "code",
   "execution_count": 205,
   "id": "b8894925",
   "metadata": {},
   "outputs": [
    {
     "data": {
      "text/plain": [
       "np.int64(1010)"
      ]
     },
     "execution_count": 205,
     "metadata": {},
     "output_type": "execute_result"
    }
   ],
   "source": [
    "df['soiling_ratio'].isna().sum()"
   ]
  },
  {
   "cell_type": "code",
   "execution_count": 206,
   "id": "69a741c8",
   "metadata": {},
   "outputs": [
    {
     "data": {
      "text/plain": [
       "voltage\n",
       "0.000000     5158\n",
       "0.706348        1\n",
       "13.228523       1\n",
       "19.976573       1\n",
       "1.670913        1\n",
       "             ... \n",
       "12.297742       1\n",
       "18.418306       1\n",
       "52.207393       1\n",
       "12.936880       1\n",
       "5.356320        1\n",
       "Name: count, Length: 13850, dtype: int64"
      ]
     },
     "execution_count": 206,
     "metadata": {},
     "output_type": "execute_result"
    }
   ],
   "source": [
    "df['voltage'].value_counts()"
   ]
  },
  {
   "cell_type": "code",
   "execution_count": 207,
   "id": "a5a11466",
   "metadata": {},
   "outputs": [
    {
     "data": {
      "text/plain": [
       "np.int64(993)"
      ]
     },
     "execution_count": 207,
     "metadata": {},
     "output_type": "execute_result"
    }
   ],
   "source": [
    "df['voltage'].isna().sum()"
   ]
  },
  {
   "cell_type": "markdown",
   "id": "3fbe192e",
   "metadata": {},
   "source": [
    "Majority of Voltage are found to be 0. And I think voltage and current are the outputs from the solar panel so we can drop those columns because it wont affect the efficiency right?\n"
   ]
  },
  {
   "cell_type": "code",
   "execution_count": 208,
   "id": "e22d1561",
   "metadata": {},
   "outputs": [
    {
     "data": {
      "text/plain": [
       "current\n",
       "1.963787    1\n",
       "0.241473    1\n",
       "4.191800    1\n",
       "0.960567    1\n",
       "0.898062    1\n",
       "           ..\n",
       "3.005355    1\n",
       "0.532119    1\n",
       "4.075498    1\n",
       "1.068906    1\n",
       "4.017684    1\n",
       "Name: count, Length: 19023, dtype: int64"
      ]
     },
     "execution_count": 208,
     "metadata": {},
     "output_type": "execute_result"
    }
   ],
   "source": [
    "df['current'].value_counts()"
   ]
  },
  {
   "cell_type": "code",
   "execution_count": 209,
   "id": "281bd9d7",
   "metadata": {},
   "outputs": [
    {
     "data": {
      "text/plain": [
       "np.int64(977)"
      ]
     },
     "execution_count": 209,
     "metadata": {},
     "output_type": "execute_result"
    }
   ],
   "source": [
    "df['current'].isna().sum()"
   ]
  },
  {
   "cell_type": "code",
   "execution_count": 210,
   "id": "737909eb",
   "metadata": {},
   "outputs": [
    {
     "data": {
      "text/plain": [
       "array([37.40352671, 21.84331546, 48.22288151, ..., 12.14771133,\n",
       "       13.04795014, 41.24761567], shape=(13850,))"
      ]
     },
     "execution_count": 210,
     "metadata": {},
     "output_type": "execute_result"
    }
   ],
   "source": [
    "unique_voltage_not_in_current = df.loc[~df['voltage'].isin(df['current']),'voltage'].unique()\n",
    "unique_voltage_not_in_current\n"
   ]
  },
  {
   "cell_type": "code",
   "execution_count": 211,
   "id": "7b11c736",
   "metadata": {},
   "outputs": [
    {
     "data": {
      "text/plain": [
       "module_temperature\n",
       "65.000000    40\n",
       "0.000000     20\n",
       "43.363708     1\n",
       "57.720436     1\n",
       "11.426214     1\n",
       "             ..\n",
       "37.571833     1\n",
       "38.674178     1\n",
       "12.837497     1\n",
       "28.609224     1\n",
       "27.545096     1\n",
       "Name: count, Length: 18964, dtype: int64"
      ]
     },
     "execution_count": 211,
     "metadata": {},
     "output_type": "execute_result"
    }
   ],
   "source": [
    "df['module_temperature'].value_counts()"
   ]
  },
  {
   "cell_type": "code",
   "execution_count": 212,
   "id": "c7690ced",
   "metadata": {},
   "outputs": [
    {
     "data": {
      "text/html": [
       "<div>\n",
       "<style scoped>\n",
       "    .dataframe tbody tr th:only-of-type {\n",
       "        vertical-align: middle;\n",
       "    }\n",
       "\n",
       "    .dataframe tbody tr th {\n",
       "        vertical-align: top;\n",
       "    }\n",
       "\n",
       "    .dataframe thead th {\n",
       "        text-align: right;\n",
       "    }\n",
       "</style>\n",
       "<table border=\"1\" class=\"dataframe\">\n",
       "  <thead>\n",
       "    <tr style=\"text-align: right;\">\n",
       "      <th></th>\n",
       "      <th>id</th>\n",
       "      <th>temperature</th>\n",
       "      <th>irradiance</th>\n",
       "      <th>humidity</th>\n",
       "      <th>panel_age</th>\n",
       "      <th>maintenance_count</th>\n",
       "      <th>soiling_ratio</th>\n",
       "      <th>voltage</th>\n",
       "      <th>current</th>\n",
       "      <th>module_temperature</th>\n",
       "      <th>cloud_coverage</th>\n",
       "      <th>wind_speed</th>\n",
       "      <th>pressure</th>\n",
       "      <th>string_id</th>\n",
       "      <th>error_code</th>\n",
       "      <th>installation_type</th>\n",
       "      <th>efficiency</th>\n",
       "    </tr>\n",
       "  </thead>\n",
       "  <tbody>\n",
       "    <tr>\n",
       "      <th>115</th>\n",
       "      <td>115</td>\n",
       "      <td>55.127610</td>\n",
       "      <td>367.626823</td>\n",
       "      <td>12.025989217410249</td>\n",
       "      <td>6.477015</td>\n",
       "      <td>2.0</td>\n",
       "      <td>0.732385</td>\n",
       "      <td>0.000000</td>\n",
       "      <td>0.899403</td>\n",
       "      <td>60.196444</td>\n",
       "      <td>99.678876</td>\n",
       "      <td>13.45143154498761</td>\n",
       "      <td>1019.0676713780514</td>\n",
       "      <td>B2</td>\n",
       "      <td>E01</td>\n",
       "      <td>dual-axis</td>\n",
       "      <td>0.503151</td>\n",
       "    </tr>\n",
       "    <tr>\n",
       "      <th>189</th>\n",
       "      <td>189</td>\n",
       "      <td>57.830386</td>\n",
       "      <td>912.731983</td>\n",
       "      <td>86.17867687320704</td>\n",
       "      <td>12.091633</td>\n",
       "      <td>2.0</td>\n",
       "      <td>0.797005</td>\n",
       "      <td>39.061541</td>\n",
       "      <td>2.168671</td>\n",
       "      <td>65.000000</td>\n",
       "      <td>13.777121</td>\n",
       "      <td>5.216506810295259</td>\n",
       "      <td>1007.7362253936187</td>\n",
       "      <td>D4</td>\n",
       "      <td>NaN</td>\n",
       "      <td>NaN</td>\n",
       "      <td>0.694131</td>\n",
       "    </tr>\n",
       "    <tr>\n",
       "      <th>505</th>\n",
       "      <td>505</td>\n",
       "      <td>51.878531</td>\n",
       "      <td>364.126123</td>\n",
       "      <td>32.55784474251867</td>\n",
       "      <td>26.825775</td>\n",
       "      <td>5.0</td>\n",
       "      <td>NaN</td>\n",
       "      <td>0.000000</td>\n",
       "      <td>0.382291</td>\n",
       "      <td>61.284818</td>\n",
       "      <td>40.602980</td>\n",
       "      <td>4.690653945495291</td>\n",
       "      <td>1012.8109991728885</td>\n",
       "      <td>A1</td>\n",
       "      <td>E01</td>\n",
       "      <td>dual-axis</td>\n",
       "      <td>0.536272</td>\n",
       "    </tr>\n",
       "    <tr>\n",
       "      <th>697</th>\n",
       "      <td>697</td>\n",
       "      <td>59.843856</td>\n",
       "      <td>259.090389</td>\n",
       "      <td>64.39577240738956</td>\n",
       "      <td>25.630764</td>\n",
       "      <td>6.0</td>\n",
       "      <td>0.414344</td>\n",
       "      <td>20.919495</td>\n",
       "      <td>2.156268</td>\n",
       "      <td>62.705516</td>\n",
       "      <td>89.180627</td>\n",
       "      <td>5.438549240729484</td>\n",
       "      <td>1033.2915018578383</td>\n",
       "      <td>C3</td>\n",
       "      <td>NaN</td>\n",
       "      <td>fixed</td>\n",
       "      <td>0.377735</td>\n",
       "    </tr>\n",
       "    <tr>\n",
       "      <th>786</th>\n",
       "      <td>786</td>\n",
       "      <td>59.119279</td>\n",
       "      <td>511.053095</td>\n",
       "      <td>18.761205627512755</td>\n",
       "      <td>31.711366</td>\n",
       "      <td>6.0</td>\n",
       "      <td>0.415809</td>\n",
       "      <td>7.961602</td>\n",
       "      <td>0.944160</td>\n",
       "      <td>65.000000</td>\n",
       "      <td>94.702918</td>\n",
       "      <td>8.057307435405985</td>\n",
       "      <td>1011.9842728791381</td>\n",
       "      <td>C3</td>\n",
       "      <td>E01</td>\n",
       "      <td>fixed</td>\n",
       "      <td>0.423003</td>\n",
       "    </tr>\n",
       "    <tr>\n",
       "      <th>...</th>\n",
       "      <td>...</td>\n",
       "      <td>...</td>\n",
       "      <td>...</td>\n",
       "      <td>...</td>\n",
       "      <td>...</td>\n",
       "      <td>...</td>\n",
       "      <td>...</td>\n",
       "      <td>...</td>\n",
       "      <td>...</td>\n",
       "      <td>...</td>\n",
       "      <td>...</td>\n",
       "      <td>...</td>\n",
       "      <td>...</td>\n",
       "      <td>...</td>\n",
       "      <td>...</td>\n",
       "      <td>...</td>\n",
       "      <td>...</td>\n",
       "    </tr>\n",
       "    <tr>\n",
       "      <th>19515</th>\n",
       "      <td>19515</td>\n",
       "      <td>56.315526</td>\n",
       "      <td>672.233633</td>\n",
       "      <td>78.8767547865067</td>\n",
       "      <td>4.680563</td>\n",
       "      <td>3.0</td>\n",
       "      <td>0.883854</td>\n",
       "      <td>21.680085</td>\n",
       "      <td>1.175329</td>\n",
       "      <td>64.262647</td>\n",
       "      <td>3.649416</td>\n",
       "      <td>5.297399374294098</td>\n",
       "      <td>1016.0428011511001</td>\n",
       "      <td>C3</td>\n",
       "      <td>E02</td>\n",
       "      <td>NaN</td>\n",
       "      <td>0.666963</td>\n",
       "    </tr>\n",
       "    <tr>\n",
       "      <th>19553</th>\n",
       "      <td>19553</td>\n",
       "      <td>60.000000</td>\n",
       "      <td>699.522674</td>\n",
       "      <td>17.564033514055122</td>\n",
       "      <td>0.909439</td>\n",
       "      <td>4.0</td>\n",
       "      <td>0.953168</td>\n",
       "      <td>4.100672</td>\n",
       "      <td>1.763171</td>\n",
       "      <td>64.968603</td>\n",
       "      <td>59.394887</td>\n",
       "      <td>5.093627444442655</td>\n",
       "      <td>1032.1133473843047</td>\n",
       "      <td>A1</td>\n",
       "      <td>NaN</td>\n",
       "      <td>fixed</td>\n",
       "      <td>0.716516</td>\n",
       "    </tr>\n",
       "    <tr>\n",
       "      <th>19783</th>\n",
       "      <td>19783</td>\n",
       "      <td>52.108308</td>\n",
       "      <td>608.764072</td>\n",
       "      <td>70.696599430603</td>\n",
       "      <td>21.050955</td>\n",
       "      <td>2.0</td>\n",
       "      <td>0.627764</td>\n",
       "      <td>38.452939</td>\n",
       "      <td>2.052685</td>\n",
       "      <td>60.917099</td>\n",
       "      <td>63.678424</td>\n",
       "      <td>0.26185323931255666</td>\n",
       "      <td>1029.8303343875616</td>\n",
       "      <td>A1</td>\n",
       "      <td>E01</td>\n",
       "      <td>dual-axis</td>\n",
       "      <td>0.471451</td>\n",
       "    </tr>\n",
       "    <tr>\n",
       "      <th>19889</th>\n",
       "      <td>19889</td>\n",
       "      <td>60.000000</td>\n",
       "      <td>325.551636</td>\n",
       "      <td>29.425686018864393</td>\n",
       "      <td>18.930643</td>\n",
       "      <td>5.0</td>\n",
       "      <td>0.629743</td>\n",
       "      <td>4.294408</td>\n",
       "      <td>2.554062</td>\n",
       "      <td>65.000000</td>\n",
       "      <td>62.149085</td>\n",
       "      <td>3.0790402972870163</td>\n",
       "      <td>1002.3878716464516</td>\n",
       "      <td>C3</td>\n",
       "      <td>E01</td>\n",
       "      <td>NaN</td>\n",
       "      <td>0.449122</td>\n",
       "    </tr>\n",
       "    <tr>\n",
       "      <th>19996</th>\n",
       "      <td>19996</td>\n",
       "      <td>53.415061</td>\n",
       "      <td>296.970303</td>\n",
       "      <td>93.98571391279083</td>\n",
       "      <td>25.997012</td>\n",
       "      <td>2.0</td>\n",
       "      <td>0.513061</td>\n",
       "      <td>0.000000</td>\n",
       "      <td>0.532119</td>\n",
       "      <td>65.000000</td>\n",
       "      <td>64.558667</td>\n",
       "      <td>0.9769909288128159</td>\n",
       "      <td>1016.081102065643</td>\n",
       "      <td>D4</td>\n",
       "      <td>E00</td>\n",
       "      <td>fixed</td>\n",
       "      <td>0.354070</td>\n",
       "    </tr>\n",
       "  </tbody>\n",
       "</table>\n",
       "<p>131 rows × 17 columns</p>\n",
       "</div>"
      ],
      "text/plain": [
       "          id  temperature  irradiance            humidity  panel_age  \\\n",
       "115      115    55.127610  367.626823  12.025989217410249   6.477015   \n",
       "189      189    57.830386  912.731983   86.17867687320704  12.091633   \n",
       "505      505    51.878531  364.126123   32.55784474251867  26.825775   \n",
       "697      697    59.843856  259.090389   64.39577240738956  25.630764   \n",
       "786      786    59.119279  511.053095  18.761205627512755  31.711366   \n",
       "...      ...          ...         ...                 ...        ...   \n",
       "19515  19515    56.315526  672.233633    78.8767547865067   4.680563   \n",
       "19553  19553    60.000000  699.522674  17.564033514055122   0.909439   \n",
       "19783  19783    52.108308  608.764072     70.696599430603  21.050955   \n",
       "19889  19889    60.000000  325.551636  29.425686018864393  18.930643   \n",
       "19996  19996    53.415061  296.970303   93.98571391279083  25.997012   \n",
       "\n",
       "       maintenance_count  soiling_ratio    voltage   current  \\\n",
       "115                  2.0       0.732385   0.000000  0.899403   \n",
       "189                  2.0       0.797005  39.061541  2.168671   \n",
       "505                  5.0            NaN   0.000000  0.382291   \n",
       "697                  6.0       0.414344  20.919495  2.156268   \n",
       "786                  6.0       0.415809   7.961602  0.944160   \n",
       "...                  ...            ...        ...       ...   \n",
       "19515                3.0       0.883854  21.680085  1.175329   \n",
       "19553                4.0       0.953168   4.100672  1.763171   \n",
       "19783                2.0       0.627764  38.452939  2.052685   \n",
       "19889                5.0       0.629743   4.294408  2.554062   \n",
       "19996                2.0       0.513061   0.000000  0.532119   \n",
       "\n",
       "       module_temperature  cloud_coverage           wind_speed  \\\n",
       "115             60.196444       99.678876    13.45143154498761   \n",
       "189             65.000000       13.777121    5.216506810295259   \n",
       "505             61.284818       40.602980    4.690653945495291   \n",
       "697             62.705516       89.180627    5.438549240729484   \n",
       "786             65.000000       94.702918    8.057307435405985   \n",
       "...                   ...             ...                  ...   \n",
       "19515           64.262647        3.649416    5.297399374294098   \n",
       "19553           64.968603       59.394887    5.093627444442655   \n",
       "19783           60.917099       63.678424  0.26185323931255666   \n",
       "19889           65.000000       62.149085   3.0790402972870163   \n",
       "19996           65.000000       64.558667   0.9769909288128159   \n",
       "\n",
       "                 pressure string_id error_code installation_type  efficiency  \n",
       "115    1019.0676713780514        B2        E01         dual-axis    0.503151  \n",
       "189    1007.7362253936187        D4        NaN               NaN    0.694131  \n",
       "505    1012.8109991728885        A1        E01         dual-axis    0.536272  \n",
       "697    1033.2915018578383        C3        NaN             fixed    0.377735  \n",
       "786    1011.9842728791381        C3        E01             fixed    0.423003  \n",
       "...                   ...       ...        ...               ...         ...  \n",
       "19515  1016.0428011511001        C3        E02               NaN    0.666963  \n",
       "19553  1032.1133473843047        A1        NaN             fixed    0.716516  \n",
       "19783  1029.8303343875616        A1        E01         dual-axis    0.471451  \n",
       "19889  1002.3878716464516        C3        E01               NaN    0.449122  \n",
       "19996   1016.081102065643        D4        E00             fixed    0.354070  \n",
       "\n",
       "[131 rows x 17 columns]"
      ]
     },
     "execution_count": 212,
     "metadata": {},
     "output_type": "execute_result"
    }
   ],
   "source": [
    "df.loc[df['module_temperature']> 60]\n"
   ]
  },
  {
   "cell_type": "code",
   "execution_count": 213,
   "id": "16a7e676",
   "metadata": {},
   "outputs": [
    {
     "data": {
      "text/plain": [
       "np.int64(978)"
      ]
     },
     "execution_count": 213,
     "metadata": {},
     "output_type": "execute_result"
    }
   ],
   "source": [
    "df['module_temperature'].isna().sum()"
   ]
  },
  {
   "cell_type": "code",
   "execution_count": 214,
   "id": "375338cf",
   "metadata": {},
   "outputs": [
    {
     "data": {
      "text/plain": [
       "cloud_coverage\n",
       "1000.000000    32\n",
       "32.113179       1\n",
       "75.405076       1\n",
       "77.078146       1\n",
       "65.969637       1\n",
       "               ..\n",
       "75.307073       1\n",
       "93.401635       1\n",
       "4.587801        1\n",
       "42.703317       1\n",
       "54.483190       1\n",
       "Name: count, Length: 18959, dtype: int64"
      ]
     },
     "execution_count": 214,
     "metadata": {},
     "output_type": "execute_result"
    }
   ],
   "source": [
    "df['cloud_coverage'].value_counts()"
   ]
  },
  {
   "cell_type": "code",
   "execution_count": 215,
   "id": "9bc17fb5",
   "metadata": {},
   "outputs": [
    {
     "data": {
      "text/plain": [
       "np.int64(1010)"
      ]
     },
     "execution_count": 215,
     "metadata": {},
     "output_type": "execute_result"
    }
   ],
   "source": [
    "df['cloud_coverage'].isna().sum()"
   ]
  },
  {
   "cell_type": "code",
   "execution_count": 216,
   "id": "f6c839a7",
   "metadata": {},
   "outputs": [
    {
     "data": {
      "text/plain": [
       "wind_speed\n",
       "badval                42\n",
       "error                 41\n",
       "unknown               36\n",
       "1.4004639058482033     1\n",
       "4.676583637669918      1\n",
       "                      ..\n",
       "9.196479438626795      1\n",
       "0.7985304351521505     1\n",
       "7.767053830591635      1\n",
       "3.0572137101487558     1\n",
       "8.321732514520054      1\n",
       "Name: count, Length: 19884, dtype: int64"
      ]
     },
     "execution_count": 216,
     "metadata": {},
     "output_type": "execute_result"
    }
   ],
   "source": [
    "df['wind_speed'].value_counts()"
   ]
  },
  {
   "cell_type": "code",
   "execution_count": 217,
   "id": "a09aed6f",
   "metadata": {},
   "outputs": [
    {
     "data": {
      "text/plain": [
       "np.int64(0)"
      ]
     },
     "execution_count": 217,
     "metadata": {},
     "output_type": "execute_result"
    }
   ],
   "source": [
    "df['wind_speed'].isna().sum()"
   ]
  },
  {
   "cell_type": "code",
   "execution_count": 218,
   "id": "b767203d",
   "metadata": {},
   "outputs": [
    {
     "data": {
      "text/plain": [
       "installation_type\n",
       "tracking     5067\n",
       "fixed        4990\n",
       "dual-axis    4915\n",
       "Name: count, dtype: int64"
      ]
     },
     "execution_count": 218,
     "metadata": {},
     "output_type": "execute_result"
    }
   ],
   "source": [
    "df['installation_type'].value_counts()"
   ]
  },
  {
   "cell_type": "code",
   "execution_count": 219,
   "id": "f49f28de",
   "metadata": {},
   "outputs": [
    {
     "data": {
      "text/plain": [
       "np.int64(5028)"
      ]
     },
     "execution_count": 219,
     "metadata": {},
     "output_type": "execute_result"
    }
   ],
   "source": [
    "df['installation_type'].isna().sum()"
   ]
  },
  {
   "cell_type": "code",
   "execution_count": 220,
   "id": "e1a64c2f",
   "metadata": {},
   "outputs": [],
   "source": [
    "train_df = pd.read_csv(r'C:\\Users\\kumara\\Downloads\\1a513221-3-dataset\\dataset\\train.csv')\n",
    "test_df = pd.read_csv(r\"C:\\Users\\kumara\\Downloads\\1a513221-3-dataset\\dataset\\test.csv\")\n",
    "sample_submission_df = pd.read_csv(r\"C:\\Users\\kumara\\Downloads\\1a513221-3-dataset\\dataset\\sample_submission.csv\")"
   ]
  },
  {
   "cell_type": "code",
   "execution_count": 221,
   "id": "5cc9628b",
   "metadata": {},
   "outputs": [],
   "source": [
    "test_ids = test_df['id']\n",
    "y_train_full = train_df['efficiency']\n",
    "train_df_features = train_df.drop('efficiency', axis=1)"
   ]
  },
  {
   "cell_type": "code",
   "execution_count": 222,
   "id": "8760ea89",
   "metadata": {},
   "outputs": [],
   "source": [
    "combined_df = pd.concat([train_df_features, test_df], ignore_index=True)\n",
    "train_len = len(train_df_features)"
   ]
  },
  {
   "cell_type": "code",
   "execution_count": 223,
   "id": "20c3f354",
   "metadata": {},
   "outputs": [],
   "source": [
    "combined_df['pressure'] = combined_df['pressure'].replace('badval', np.nan)\n",
    "combined_df['humidity'] = combined_df['humidity'].replace('unknown', np.nan)"
   ]
  },
  {
   "cell_type": "code",
   "execution_count": 224,
   "id": "aa7fb342",
   "metadata": {},
   "outputs": [],
   "source": [
    "cols_to_numeric = ['temperature', 'irradiance', 'humidity', 'panel_age',\n",
    "                   'maintenance_count', 'soiling_ratio', 'voltage', 'current',\n",
    "                   'module_temperature', 'cloud_coverage', 'wind_speed', 'pressure']\n",
    "for col in cols_to_numeric:\n",
    "    combined_df[col] = pd.to_numeric(combined_df[col], errors='coerce')"
   ]
  },
  {
   "cell_type": "code",
   "execution_count": 225,
   "id": "91ccc2e6",
   "metadata": {},
   "outputs": [
    {
     "name": "stdout",
     "output_type": "stream",
     "text": [
      "<class 'pandas.core.frame.DataFrame'>\n",
      "RangeIndex: 20000 entries, 0 to 19999\n",
      "Data columns (total 17 columns):\n",
      " #   Column              Non-Null Count  Dtype  \n",
      "---  ------              --------------  -----  \n",
      " 0   id                  20000 non-null  int64  \n",
      " 1   temperature         18999 non-null  float64\n",
      " 2   irradiance          19013 non-null  float64\n",
      " 3   humidity            20000 non-null  object \n",
      " 4   panel_age           18989 non-null  float64\n",
      " 5   maintenance_count   18973 non-null  float64\n",
      " 6   soiling_ratio       18990 non-null  float64\n",
      " 7   voltage             19007 non-null  float64\n",
      " 8   current             19023 non-null  float64\n",
      " 9   module_temperature  19022 non-null  float64\n",
      " 10  cloud_coverage      18990 non-null  float64\n",
      " 11  wind_speed          20000 non-null  object \n",
      " 12  pressure            20000 non-null  object \n",
      " 13  string_id           20000 non-null  object \n",
      " 14  error_code          14088 non-null  object \n",
      " 15  installation_type   14972 non-null  object \n",
      " 16  efficiency          20000 non-null  float64\n",
      "dtypes: float64(10), int64(1), object(6)\n",
      "memory usage: 2.6+ MB\n"
     ]
    }
   ],
   "source": [
    "df.info()"
   ]
  },
  {
   "cell_type": "code",
   "execution_count": 226,
   "id": "002d8c54",
   "metadata": {},
   "outputs": [
    {
     "name": "stdout",
     "output_type": "stream",
     "text": [
      "<class 'pandas.core.frame.DataFrame'>\n",
      "RangeIndex: 32000 entries, 0 to 31999\n",
      "Data columns (total 11 columns):\n",
      " #   Column              Non-Null Count  Dtype  \n",
      "---  ------              --------------  -----  \n",
      " 0   id                  32000 non-null  int64  \n",
      " 1   temperature         30417 non-null  float64\n",
      " 2   irradiance          30398 non-null  float64\n",
      " 3   humidity            31800 non-null  float64\n",
      " 4   panel_age           30382 non-null  float64\n",
      " 5   maintenance_count   30364 non-null  float64\n",
      " 6   soiling_ratio       30380 non-null  float64\n",
      " 7   module_temperature  30442 non-null  float64\n",
      " 8   cloud_coverage      30408 non-null  float64\n",
      " 9   wind_speed          31800 non-null  float64\n",
      " 10  pressure            31800 non-null  float64\n",
      "dtypes: float64(10), int64(1)\n",
      "memory usage: 2.7 MB\n"
     ]
    }
   ],
   "source": [
    "new_df = combined_df.drop(columns=['voltage','current','string_id','error_code','installation_type'], axis= 1)\n",
    "new_df.info()"
   ]
  },
  {
   "cell_type": "code",
   "execution_count": 229,
   "id": "cadcbc2e",
   "metadata": {},
   "outputs": [],
   "source": [
    "numerical_features = combined_df.select_dtypes(include=np.number).columns.tolist()\n",
    "if 'id' in numerical_features:\n",
    "    numerical_features.remove('id')\n",
    "categorical_features = combined_df.select_dtypes(include='object').columns.tolist()\n",
    "\n",
    "numerical_pipeline = Pipeline([\n",
    "    ('imputer', SimpleImputer(strategy='median')),\n",
    "    ('scaler', StandardScaler())\n",
    "])\n",
    "categorical_pipeline = Pipeline([\n",
    "    ('imputer', SimpleImputer(strategy='most_frequent')),\n",
    "    ('onehot', OneHotEncoder(handle_unknown='ignore', sparse_output=False))\n",
    "])\n",
    "preprocessor = ColumnTransformer(\n",
    "    transformers=[\n",
    "        ('num', numerical_pipeline, numerical_features),\n",
    "        ('cat', categorical_pipeline, categorical_features)\n",
    "    ],\n",
    "    remainder='drop'\n",
    ")\n",
    "\n"
   ]
  }
 ],
 "metadata": {
  "kernelspec": {
   "display_name": "Python 3",
   "language": "python",
   "name": "python3"
  },
  "language_info": {
   "codemirror_mode": {
    "name": "ipython",
    "version": 3
   },
   "file_extension": ".py",
   "mimetype": "text/x-python",
   "name": "python",
   "nbconvert_exporter": "python",
   "pygments_lexer": "ipython3",
   "version": "3.12.4"
  }
 },
 "nbformat": 4,
 "nbformat_minor": 5
}
